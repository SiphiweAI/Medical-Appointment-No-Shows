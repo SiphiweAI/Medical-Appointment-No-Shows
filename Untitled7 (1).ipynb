{
 "cells": [
  {
   "cell_type": "code",
   "execution_count": 23,
   "id": "3a22786e-1591-454e-b100-6bdb30a8ec79",
   "metadata": {},
   "outputs": [],
   "source": [
    "import numpy as np\n",
    "arr_1 = np.array([1, 2, 3, 4, 5]) # 1D array\n",
    "arr_2 = np.array([[1, 2, 3, 4, 5], [6, 7, 8, 9, 2]]) # 2D array\n",
    "arr_3 = np.array([[[3, 6, 9, 12, 55]], [[15, 20, 25, 30, 33]]]) # 3D array"
   ]
  },
  {
   "cell_type": "code",
   "execution_count": 11,
   "id": "001771f2-8648-4ecb-8c1b-838559a127ba",
   "metadata": {},
   "outputs": [
    {
     "name": "stdout",
     "output_type": "stream",
     "text": [
      "1D Array:\n",
      " [1 2 3 4 5]\n",
      "\n",
      "2D Array:\n",
      " [[1 2 3 4 5]\n",
      " [6 7 8 9 2]]\n",
      "\n",
      "3D Array:\n",
      " [[[ 2  4  6  8]\n",
      "  [ 3  6  9 12]]\n",
      "\n",
      " [[ 4  7  5  9]\n",
      "  [15 20 25 30]]]\n"
     ]
    }
   ],
   "source": [
    "print(f\"1D Array:\\n\", arr_1)\n",
    "print(\"\")\n",
    "print(f\"2D Array:\\n\", arr_2)\n",
    "print(\"\")\n",
    "print(f\"3D Array:\\n\", arr_3)"
   ]
  },
  {
   "cell_type": "code",
   "execution_count": 12,
   "id": "d4e01d73-3b72-460f-9ce7-00655b39b42d",
   "metadata": {},
   "outputs": [
    {
     "name": "stdout",
     "output_type": "stream",
     "text": [
      "Arr_1:\n",
      "Number of dimensions: 1\n",
      "Shape: (5,)\n",
      "Size: 5\n"
     ]
    }
   ],
   "source": [
    "print(\"Arr_1:\")\n",
    "print(\"Number of dimensions:\", arr_1.ndim)\n",
    "print(\"Shape:\", arr_1.shape)\n",
    "print(\"Size:\", arr_1.size)"
   ]
  },
  {
   "cell_type": "code",
   "execution_count": 13,
   "id": "3c481114-be47-455d-b0b8-e0c08cf103ba",
   "metadata": {},
   "outputs": [
    {
     "name": "stdout",
     "output_type": "stream",
     "text": [
      "Arr_2:\n",
      "Number of dimensions: 2\n",
      "Shape: (2, 5)\n",
      "Size: 10\n"
     ]
    }
   ],
   "source": [
    "print(\"Arr_2:\")\n",
    "print(\"Number of dimensions:\", arr_2.ndim)\n",
    "print(\"Shape:\", arr_2.shape)\n",
    "print(\"Size:\", arr_2.size)"
   ]
  },
  {
   "cell_type": "code",
   "execution_count": 15,
   "id": "e969aad9-e644-4c71-b4fe-06cd4d2d26cd",
   "metadata": {},
   "outputs": [
    {
     "name": "stdout",
     "output_type": "stream",
     "text": [
      "[[[ 2  4  6  8]\n",
      "  [ 3  6  9 12]]\n",
      "\n",
      " [[ 4  7  5  9]\n",
      "  [15 20 25 30]]]\n",
      "Arr_3:\n",
      "Number of dimensions: 3\n",
      "Shape: (2, 2, 4)\n",
      "Size: 16\n"
     ]
    }
   ],
   "source": [
    "print(arr_3)\n",
    "print(\"Arr_3:\")\n",
    "print(\"Number of dimensions:\", arr_3.ndim)\n",
    "print(\"Shape:\", arr_3.shape)\n",
    "print(\"Size:\", arr_3.size)"
   ]
  },
  {
   "cell_type": "code",
   "execution_count": 22,
   "id": "abfc5a2b-666b-4c79-9163-e925851db3e9",
   "metadata": {},
   "outputs": [
    {
     "name": "stdout",
     "output_type": "stream",
     "text": [
      "[[[ 3  6  9 12 55]]\n",
      "\n",
      " [[15 20 25 30 33]]]\n",
      "Arr_3:\n",
      "Number of dimensions: 3\n",
      "Shape: (2, 1, 5)\n",
      "Size: 10\n"
     ]
    }
   ],
   "source": [
    "print(arr_3)\n",
    "print(\"Arr_3:\")\n",
    "print(\"Number of dimensions:\", arr_3.ndim)\n",
    "print(\"Shape:\", arr_3.shape)\n",
    "print(\"Size:\", arr_3.size)"
   ]
  },
  {
   "cell_type": "code",
   "execution_count": 24,
   "id": "d27655de-856b-412f-afa9-784a69f27d8a",
   "metadata": {},
   "outputs": [
    {
     "name": "stdout",
     "output_type": "stream",
     "text": [
      "1D Array:\n",
      " [1 2 3 4 5]\n",
      "\n",
      "2D Array:\n",
      " [[1 2 3 4 5]\n",
      " [6 7 8 9 2]]\n",
      "\n",
      "3D Array:\n",
      " [[[ 3  6  9 12 55]]\n",
      "\n",
      " [[15 20 25 30 33]]]\n"
     ]
    }
   ],
   "source": [
    "print(f\"1D Array:\\n\", arr_1)\n",
    "print(\"\")\n",
    "print(f\"2D Array:\\n\", arr_2)\n",
    "print(\"\")\n",
    "print(f\"3D Array:\\n\", arr_3)"
   ]
  },
  {
   "cell_type": "code",
   "execution_count": 33,
   "id": "50172a44-5a27-4a3e-8c7a-84ca164ca51b",
   "metadata": {},
   "outputs": [
    {
     "name": "stdout",
     "output_type": "stream",
     "text": [
      "9\n"
     ]
    }
   ],
   "source": [
    "print(arr_2[1, 3])"
   ]
  },
  {
   "cell_type": "markdown",
   "id": "0e16cc3a-b36f-4c1d-aa52-146bf4fc259a",
   "metadata": {},
   "source": [
    "### Create a 2D NumPy array with shape (4,5) containing random integers between 10 and 50."
   ]
  },
  {
   "cell_type": "code",
   "execution_count": 2,
   "id": "b05ba78b-bc84-42fa-a2d5-04a2cdf88338",
   "metadata": {},
   "outputs": [
    {
     "name": "stdout",
     "output_type": "stream",
     "text": [
      "[[13 50 13 19 18]\n",
      " [40 10 19 33 40]\n",
      " [14 13 34 12 48]\n",
      " [40 33 11 14 18]]\n"
     ]
    }
   ],
   "source": [
    "import random\n",
    "import numpy as np\n",
    "\n",
    "def gen_num():\n",
    "    nums = []\n",
    "    count = 1\n",
    "    while count <= 5:\n",
    "        num = random.randint(10, 50)\n",
    "        nums.append(num)\n",
    "        count += 1\n",
    "    return nums\n",
    "\n",
    "num_1 = gen_num()\n",
    "num_2 = gen_num()\n",
    "num_3 = gen_num()\n",
    "num_4 = gen_num()\n",
    "arr = np.array([num_1, num_2, num_3, num_4])\n",
    "\n",
    "print(arr)"
   ]
  },
  {
   "cell_type": "code",
   "execution_count": 11,
   "id": "ecb5e6c8-b0ad-4cdc-8c50-2fc6df7f85c7",
   "metadata": {},
   "outputs": [
    {
     "name": "stdout",
     "output_type": "stream",
     "text": [
      "[[34 36 33 43 28]\n",
      " [16 21 26 49 28]\n",
      " [22 45 20 25 35]\n",
      " [43 46 49 47 31]]\n"
     ]
    }
   ],
   "source": [
    "array_2d = np.random.randint(10, 51, (4, 5))\n",
    "print(array_2d)"
   ]
  },
  {
   "cell_type": "code",
   "execution_count": 8,
   "id": "389d0680-cee6-472b-b460-64c38e1af40a",
   "metadata": {},
   "outputs": [
    {
     "name": "stdout",
     "output_type": "stream",
     "text": [
      "18\n"
     ]
    }
   ],
   "source": [
    "print(arr[2, 3])"
   ]
  },
  {
   "cell_type": "code",
   "execution_count": 6,
   "id": "7770dcb2-5941-481d-9f19-03898b8754a0",
   "metadata": {},
   "outputs": [
    {
     "name": "stdout",
     "output_type": "stream",
     "text": [
      "[[0. 0. 0.]\n",
      " [0. 0. 0.]\n",
      " [0. 0. 0.]]\n"
     ]
    }
   ],
   "source": [
    "kkk = np.zeros((3, 3))\n",
    "print(kkk)"
   ]
  },
  {
   "cell_type": "code",
   "execution_count": 8,
   "id": "d4bb8756-9625-4895-b8ee-2d07043871f5",
   "metadata": {},
   "outputs": [
    {
     "name": "stdout",
     "output_type": "stream",
     "text": [
      "[[1. 0. 0.]\n",
      " [0. 1. 0.]\n",
      " [0. 0. 1.]]\n"
     ]
    }
   ],
   "source": [
    "eye = np.eye(3)\n",
    "print(eye)"
   ]
  },
  {
   "cell_type": "code",
   "execution_count": 9,
   "id": "ffd507ee-6587-406e-a185-e54c9b53236e",
   "metadata": {},
   "outputs": [
    {
     "name": "stdout",
     "output_type": "stream",
     "text": [
      "[[1. 1. 1. 1. 1.]\n",
      " [1. 1. 1. 1. 1.]\n",
      " [1. 1. 1. 1. 1.]\n",
      " [1. 1. 1. 1. 1.]]\n"
     ]
    }
   ],
   "source": [
    "once = np.ones((4, 5))\n",
    "print(once)"
   ]
  },
  {
   "cell_type": "code",
   "execution_count": 17,
   "id": "a13c35c4-2f60-472a-bdac-d413a1986de1",
   "metadata": {},
   "outputs": [
    {
     "name": "stdout",
     "output_type": "stream",
     "text": [
      "[[2. 2. 2. 2. 2.]\n",
      " [2. 2. 2. 2. 2.]\n",
      " [2. 2. 2. 2. 2.]\n",
      " [2. 2. 2. 2. 2.]]\n"
     ]
    }
   ],
   "source": [
    "tow = once + once\n",
    "print(tow)"
   ]
  },
  {
   "cell_type": "code",
   "execution_count": 22,
   "id": "9fe27d7c-bf6f-4a58-b84b-2cc2efe688f9",
   "metadata": {},
   "outputs": [
    {
     "name": "stdout",
     "output_type": "stream",
     "text": [
      "[[34 36 33 43 28]\n",
      " [16 21 26 49 28]\n",
      " [22 45 20 25 35]\n",
      " [43 46 49 47 31]]\n"
     ]
    },
    {
     "ename": "ValueError",
     "evalue": "matmul: Input operand 1 has a mismatch in its core dimension 0, with gufunc signature (n?,k),(k,m?)->(n?,m?) (size 4 is different from 5)",
     "output_type": "error",
     "traceback": [
      "\u001b[1;31m---------------------------------------------------------------------------\u001b[0m",
      "\u001b[1;31mValueError\u001b[0m                                Traceback (most recent call last)",
      "Cell \u001b[1;32mIn[22], line 2\u001b[0m\n\u001b[0;32m      1\u001b[0m \u001b[38;5;28mprint\u001b[39m(array_2d)\n\u001b[1;32m----> 2\u001b[0m ads \u001b[38;5;241m=\u001b[39m \u001b[43marray_2d\u001b[49m\u001b[43m \u001b[49m\u001b[38;5;241;43m@\u001b[39;49m\u001b[43m \u001b[49m\u001b[43monce\u001b[49m\n\u001b[0;32m      3\u001b[0m \u001b[38;5;28mprint\u001b[39m(\u001b[38;5;124m\"\u001b[39m\u001b[38;5;124m\"\u001b[39m)\n\u001b[0;32m      4\u001b[0m \u001b[38;5;28mprint\u001b[39m(ads)\n",
      "\u001b[1;31mValueError\u001b[0m: matmul: Input operand 1 has a mismatch in its core dimension 0, with gufunc signature (n?,k),(k,m?)->(n?,m?) (size 4 is different from 5)"
     ]
    }
   ],
   "source": [
    "print(array_2d)\n",
    "ads = array_2d @ once\n",
    "print(\"\")\n",
    "print(ads)"
   ]
  },
  {
   "cell_type": "code",
   "execution_count": 23,
   "id": "e68c8b41-e975-40cc-a5a5-a92b64d90d58",
   "metadata": {},
   "outputs": [
    {
     "name": "stdout",
     "output_type": "stream",
     "text": [
      "(4, 5)\n",
      "4\n",
      "5\n"
     ]
    }
   ],
   "source": [
    "print(array_2d.shape)\n",
    "print(array_2d.shape[0])\n",
    "print(array_2d.shape[1])"
   ]
  },
  {
   "cell_type": "code",
   "execution_count": null,
   "id": "904a40dd-dff4-4bae-884c-a708f3d070d7",
   "metadata": {},
   "outputs": [],
   "source": []
  }
 ],
 "metadata": {
  "kernelspec": {
   "display_name": "Python 3 (ipykernel)",
   "language": "python",
   "name": "python3"
  },
  "language_info": {
   "codemirror_mode": {
    "name": "ipython",
    "version": 3
   },
   "file_extension": ".py",
   "mimetype": "text/x-python",
   "name": "python",
   "nbconvert_exporter": "python",
   "pygments_lexer": "ipython3",
   "version": "3.12.4"
  }
 },
 "nbformat": 4,
 "nbformat_minor": 5
}
